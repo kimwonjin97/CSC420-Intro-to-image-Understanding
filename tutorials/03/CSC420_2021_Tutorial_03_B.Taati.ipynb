{
 "cells": [
  {
   "cell_type": "markdown",
   "source": [
    "# Tutorial 3\n",
    "\n",
    "# CSC420 - Fall 2021\n",
    "\n",
    "# Babak Taati"
   ],
   "metadata": {}
  },
  {
   "cell_type": "markdown",
   "source": [
    "# (this tutorial doesn't run in Colab)"
   ],
   "metadata": {}
  },
  {
   "cell_type": "code",
   "execution_count": 1,
   "source": [
    "import cv2\n",
    "import numpy as np"
   ],
   "outputs": [],
   "metadata": {}
  },
  {
   "cell_type": "code",
   "execution_count": 7,
   "source": [
    "# mouse callback function - draw a circle\n",
    "def draw_circle(event,x,y,flags,param):\n",
    "\n",
    "    global center,radius,clicked\n",
    "\n",
    "    if event == cv2.EVENT_LBUTTONDOWN: # mouse click down -> get centre\n",
    "        center = (x,y)\n",
    "        clicked = False\n",
    "    \n",
    "    if event == cv2.EVENT_LBUTTONUP: # mouse release -> calculate radius\n",
    "        radius = int( np.linalg.norm( np.asarray(center) - np.asarray((x,y)) ) )\n",
    "        clicked = True\n",
    "        \n",
    "# initialize \n",
    "center = (0,0)\n",
    "clicked = False\n",
    "radius = 0\n",
    "\n",
    "\n",
    "img = cv2.imread('UofT.jpg') # READS IN NUMPY ARRAY\n",
    "\n",
    "cv2.namedWindow('UofT') # create a named window\n",
    "cv2.setMouseCallback('UofT', draw_circle) # link the named window with the callback function\n",
    "\n",
    "while True:\n",
    "\n",
    "    if clicked==True:\n",
    "        cv2.circle(img, center=center, radius=radius, color=(255,100,20), thickness=3)\n",
    "        \n",
    "    cv2.imshow('UofT', img)\n",
    "\n",
    "    if cv2.waitKey(1) & 0xFF == 27: # wait a 1 ms and exit if ESC is pressed\n",
    "        break\n",
    "\n",
    "cv2.destroyAllWindows()"
   ],
   "outputs": [],
   "metadata": {}
  },
  {
   "cell_type": "code",
   "execution_count": 5,
   "source": [
    "# display live camera feed\n",
    "\n",
    "cap = cv2.VideoCapture(0) # 0: default camera - (you can try (1) or (2) ... if you have more than one camera)\n",
    "\n",
    "width = int(cap.get(cv2.CAP_PROP_FRAME_WIDTH)) \n",
    "height = int(cap.get(cv2.CAP_PROP_FRAME_HEIGHT))\n",
    "\n",
    "print('width = ', width)\n",
    "print('height = ', height)\n",
    "\n",
    "while True:\n",
    "    \n",
    "    ret, frame = cap.read() # grab a fram\n",
    "    cv2.imshow('live camera feed',frame) # display it\n",
    "    \n",
    "    if cv2.waitKey(1) & 0xFF == 27: # wait 1 ms and exit is ESC is pressed\n",
    "        break\n",
    "\n",
    "cap.release() # release the capture\n",
    "cv2.destroyAllWindows() # close the window"
   ],
   "outputs": [
    {
     "output_type": "stream",
     "name": "stdout",
     "text": [
      "width =  0\n",
      "height =  0\n"
     ]
    },
    {
     "output_type": "error",
     "ename": "error",
     "evalue": "OpenCV(4.5.3) /tmp/pip-req-build-afu9cjzs/opencv/modules/highgui/src/window.cpp:1006: error: (-215:Assertion failed) size.width>0 && size.height>0 in function 'imshow'\n",
     "traceback": [
      "\u001b[0;31m---------------------------------------------------------------------------\u001b[0m",
      "\u001b[0;31merror\u001b[0m                                     Traceback (most recent call last)",
      "\u001b[0;32m<ipython-input-5-abd160ec9b26>\u001b[0m in \u001b[0;36m<module>\u001b[0;34m\u001b[0m\n\u001b[1;32m     12\u001b[0m \u001b[0;34m\u001b[0m\u001b[0m\n\u001b[1;32m     13\u001b[0m     \u001b[0mret\u001b[0m\u001b[0;34m,\u001b[0m \u001b[0mframe\u001b[0m \u001b[0;34m=\u001b[0m \u001b[0mcap\u001b[0m\u001b[0;34m.\u001b[0m\u001b[0mread\u001b[0m\u001b[0;34m(\u001b[0m\u001b[0;34m)\u001b[0m \u001b[0;31m# grab a fram\u001b[0m\u001b[0;34m\u001b[0m\u001b[0;34m\u001b[0m\u001b[0m\n\u001b[0;32m---> 14\u001b[0;31m     \u001b[0mcv2\u001b[0m\u001b[0;34m.\u001b[0m\u001b[0mimshow\u001b[0m\u001b[0;34m(\u001b[0m\u001b[0;34m'live camera feed'\u001b[0m\u001b[0;34m,\u001b[0m\u001b[0mframe\u001b[0m\u001b[0;34m)\u001b[0m \u001b[0;31m# display it\u001b[0m\u001b[0;34m\u001b[0m\u001b[0;34m\u001b[0m\u001b[0m\n\u001b[0m\u001b[1;32m     15\u001b[0m \u001b[0;34m\u001b[0m\u001b[0m\n\u001b[1;32m     16\u001b[0m     \u001b[0;32mif\u001b[0m \u001b[0mcv2\u001b[0m\u001b[0;34m.\u001b[0m\u001b[0mwaitKey\u001b[0m\u001b[0;34m(\u001b[0m\u001b[0;36m1\u001b[0m\u001b[0;34m)\u001b[0m \u001b[0;34m&\u001b[0m \u001b[0;36m0xFF\u001b[0m \u001b[0;34m==\u001b[0m \u001b[0;36m27\u001b[0m\u001b[0;34m:\u001b[0m \u001b[0;31m# wait 1 ms and exit is ESC is pressed\u001b[0m\u001b[0;34m\u001b[0m\u001b[0;34m\u001b[0m\u001b[0m\n",
      "\u001b[0;31merror\u001b[0m: OpenCV(4.5.3) /tmp/pip-req-build-afu9cjzs/opencv/modules/highgui/src/window.cpp:1006: error: (-215:Assertion failed) size.width>0 && size.height>0 in function 'imshow'\n"
     ]
    }
   ],
   "metadata": {}
  },
  {
   "cell_type": "code",
   "execution_count": 6,
   "source": [
    "# display live camera feed & save into file\n",
    "\n",
    "cap = cv2.VideoCapture(0) \n",
    "\n",
    "width = int(cap.get(cv2.CAP_PROP_FRAME_WIDTH)) \n",
    "height = int(cap.get(cv2.CAP_PROP_FRAME_HEIGHT))\n",
    "\n",
    "fps = 20 # what's the problem with this?\n",
    "         # our capture is as fast as we can, but we're writing in the file header 20 fps\n",
    "         # try setting fps to 200 and see what happens (play the recorded video)\n",
    "writer = cv2.VideoWriter('test.mp4', cv2.VideoWriter_fourcc(*'XVID'),fps, (width, height))\n",
    "\n",
    "while True:\n",
    "    \n",
    "    ret, frame = cap.read() # grab a fram\n",
    "    cv2.imshow('live camera feed',frame) # display it\n",
    "    writer.write(frame) # write to file\n",
    "    \n",
    "    if cv2.waitKey(1) & 0xFF == 27: # wait 1 ms and exit is ESC is pressed\n",
    "        break\n",
    "\n",
    "\n",
    "cap.release()\n",
    "writer.release() # release the write capture \n",
    "cv2.destroyAllWindows()"
   ],
   "outputs": [],
   "metadata": {}
  },
  {
   "cell_type": "code",
   "execution_count": 7,
   "source": [
    "# video from file\n",
    "\n",
    "import time\n",
    "\n",
    "cap = cv2.VideoCapture('myshortvideo.mp4')\n",
    "\n",
    "fps = int(cap.get(cv2.CAP_PROP_FPS)) \n",
    "print('fps = ', fps)\n",
    "\n",
    "if cap.isOpened()== False: # ==false e.g. if video file doesn't exist or path is incorrect\n",
    "    print(\"could not open video file.\")\n",
    "\n",
    "# While the video is opened\n",
    "while cap.isOpened():\n",
    "\n",
    "    ret, frame = cap.read()\n",
    "    \n",
    "    if ret == True: # if frame capture successful\n",
    "        \n",
    "        time.sleep(1./fps - 0.001) # we'll wait another ms later for waitKey\n",
    "        cv2.imshow('video',frame)\n",
    "\n",
    "        if cv2.waitKey(1) & 0xFF == 27: # wait 1 ms and exit is ESC is pressed\n",
    "            break\n",
    "    else:\n",
    "        break # jump out when the video is over.\n",
    "        \n",
    "cap.release()\n",
    "cv2.destroyAllWindows()"
   ],
   "outputs": [
    {
     "output_type": "stream",
     "name": "stdout",
     "text": [
      "fps =  22\n"
     ]
    }
   ],
   "metadata": {}
  },
  {
   "cell_type": "code",
   "execution_count": 10,
   "source": [
    "# video from file / modify / write to file\n",
    "\n",
    "cap = cv2.VideoCapture('myshortvideo.mp4')\n",
    "\n",
    "\n",
    "fps = int(cap.get(cv2.CAP_PROP_FPS)) \n",
    "print('fps = ', fps)\n",
    "\n",
    "width = int(cap.get(cv2.CAP_PROP_FRAME_WIDTH)) \n",
    "height = int(cap.get(cv2.CAP_PROP_FRAME_HEIGHT))\n",
    "\n",
    "w = int(width/2)\n",
    "h = height //2\n",
    "\n",
    "print('w = ', w)\n",
    "print('h = ', h)\n",
    "\n",
    "writer = cv2.VideoWriter('myshortvideo_smaller.mp4', cv2.VideoWriter_fourcc(*'XVID'),fps, (w, h))\n",
    "\n",
    "if cap.isOpened()== False: # ==false e.g. if video file doesn't exist or path is incorrect\n",
    "    print(\"could not open video file.\")\n",
    "\n",
    "# While the video is opened\n",
    "while cap.isOpened():\n",
    "\n",
    "    ret, frame = cap.read()\n",
    "    \n",
    "    if ret == True: # if frame capture successful\n",
    "        \n",
    "        time.sleep(1./fps - 0.001) # we'll wait another ms later for waitKey\n",
    "        cv2.imshow('video',frame)\n",
    "\n",
    "        small_frame = cv2.resize(frame, (w,h))\n",
    "        writer.write(small_frame) # write to file\n",
    "        \n",
    "        if cv2.waitKey(1) & 0xFF == 27: # wait 1 ms and exit is ESC is pressed\n",
    "            break\n",
    "    else:\n",
    "        break # jump out when the video is over.\n",
    "        \n",
    "cap.release()\n",
    "writer.release()\n",
    "cv2.destroyAllWindows()"
   ],
   "outputs": [
    {
     "output_type": "stream",
     "name": "stdout",
     "text": [
      "fps =  22\n",
      "w =  432\n",
      "h =  240\n"
     ]
    }
   ],
   "metadata": {}
  },
  {
   "cell_type": "code",
   "execution_count": null,
   "source": [],
   "outputs": [],
   "metadata": {}
  }
 ],
 "metadata": {
  "kernelspec": {
   "name": "python3",
   "display_name": "Python 3.8.8 64-bit ('csc420': conda)"
  },
  "language_info": {
   "codemirror_mode": {
    "name": "ipython",
    "version": 3
   },
   "file_extension": ".py",
   "mimetype": "text/x-python",
   "name": "python",
   "nbconvert_exporter": "python",
   "pygments_lexer": "ipython3",
   "version": "3.8.8"
  },
  "interpreter": {
   "hash": "0671c88f3d310d6b97c6d2fe7f9aa91e81c603d638d2e8d6c432c4a95a4f646d"
  }
 },
 "nbformat": 4,
 "nbformat_minor": 2
}